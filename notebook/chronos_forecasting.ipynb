{
  "cells": [
    {
      "attachments": {},
      "cell_type": "markdown",
      "metadata": {},
      "source": [
        "<a href=\"https://colab.research.google.com/github/intel-analytics/Chronos-workshop/blob/main/notebook/chronos_forecasting.ipynb\" target=\"_parent\"><img src=\"https://colab.research.google.com/assets/colab-badge.svg\" alt=\"Open In Colab\"/></a>"
      ]
    },
    {
      "cell_type": "markdown",
      "metadata": {
        "id": "xgV_QLGE9Lox"
      },
      "source": [
        "![image.png](data:image/png;base64,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)"
      ]
    },
    {
      "cell_type": "markdown",
      "metadata": {
        "id": "fDBPZ0_rfBmU"
      },
      "source": [
        "##### Copyright 2016 The BigDL Authors."
      ]
    },
    {
      "cell_type": "code",
      "execution_count": null,
      "metadata": {
        "id": "xBWVU_bhfkY7"
      },
      "outputs": [],
      "source": [
        "#@title Licensed under the Apache License, Version 2.0 (the \"License\");\n",
        "# you may not use this file except in compliance with the License.\n",
        "# You may obtain a copy of the License at\n",
        "#\n",
        "#     http://www.apache.org/licenses/LICENSE-2.0\n",
        "#\n",
        "# Unless required by applicable law or agreed to in writing, software\n",
        "# distributed under the License is distributed on an \"AS IS\" BASIS,\n",
        "# WITHOUT WARRANTIES OR CONDITIONS OF ANY KIND, either express or implied.\n",
        "# See the License for the specific language governing permissions and\n",
        "# limitations under the License.\n",
        "#"
      ]
    },
    {
      "cell_type": "markdown",
      "metadata": {
        "id": "voMBntim9bMf"
      },
      "source": [
        "## **Environment Preparation**"
      ]
    },
    {
      "attachments": {},
      "cell_type": "markdown",
      "metadata": {
        "id": "I_OS4HKJMNpv"
      },
      "source": [
        "**Install bigdl-chronos**\n",
        "\n",
        "You can install the latest pre-release version with automl support using `pip install --pre --upgrade bigdl-chronos[pytorch,distributed]`.\n",
        "\n",
        "- We use pytorch as backend here, while chronos also support tensorflow as well.\n",
        "- This may take 3-5min according to the network condition, google colab has a pre-defined environment which makes the installation more complex.\n",
        "- This block is designed to exit(crash) for refreshing installed pkg. If you see something like `\"Your session crashed for an unknown reason.\"` then your installation is succeeded.\n",
        "\n",
        "You may refer to [here](https://bigdl.readthedocs.io/en/latest/doc/Chronos/Overview/install.html) for detailed installation information."
      ]
    },
    {
      "cell_type": "code",
      "execution_count": null,
      "metadata": {
        "id": "3qfT8CaC51hI"
      },
      "outputs": [],
      "source": [
        "print(\"This block is designed to exit(crash) for refreshing installed pkg.\")\n",
        "\n",
        "# Install latest pre-release version of bigdl-chronos\n",
        "!pip install --pre --upgrade bigdl-chronos[pytorch,inference]\n",
        "\n",
        "# fix confict with google colab\n",
        "!pip uninstall -y torchtext\n",
        "!pip install numpy==1.23.4\n",
        "!pip install opencv-python-headless==4.1.2.30\n",
        "\n",
        "# restart the runtime to refresh installed pkg\n",
        "exit()"
      ]
    },
    {
      "cell_type": "markdown",
      "metadata": {
        "id": "TsT-0y8w-6N5"
      },
      "source": [
        "### Step 0: Prepare dataset\n",
        "We used NYC taxi passengers dataset in [Numenta Anomaly Benchmark (NAB)](https://github.com/numenta/NAB) for demo, which contains 10320 records, each indicating the total number of taxi passengers in NYC at a corresonponding time spot.\n",
        "\n",
        "If you want to use other public dataset please refer to our [public dataset table](https://bigdl.readthedocs.io/en/latest/doc/Chronos/Overview/data_processing_feature_engineering.html#built-in-dataset).\n",
        "\n",
        "If you want to use your own dataset, please refer to our [customized dataset document](https://bigdl.readthedocs.io/en/latest/doc/Chronos/Overview/data_processing_feature_engineering.html)"
      ]
    },
    {
      "cell_type": "code",
      "execution_count": null,
      "metadata": {
        "id": "LVpFKkCX_3WF"
      },
      "outputs": [],
      "source": [
        "from bigdl.chronos.data.repo_dataset import get_public_dataset\n",
        "\n",
        "tsdata_train, tsdata_valid, tsdata_test = get_public_dataset(\"nyc_taxi\")"
      ]
    },
    {
      "cell_type": "markdown",
      "metadata": {
        "id": "CYlgoyQVlz4v"
      },
      "source": [
        "## **Time series forecasting using Chronos Forecaster**"
      ]
    },
    {
      "cell_type": "markdown",
      "metadata": {
        "id": "EC0MWYwclz4w"
      },
      "source": [
        "### Forecaster Step1. Data transformation and feature engineering using Chronos TSDataset \n",
        "[TSDataset](https://bigdl.readthedocs.io/en/latest/doc/PythonAPI/Chronos/tsdataset.html) is our abstract of time series dataset for data transformation and feature engineering. Here we use it to preprocess the data."
      ]
    },
    {
      "cell_type": "markdown",
      "metadata": {
        "id": "CvGYp6xXlz4w"
      },
      "source": [
        "Preprocess the datasets. Here we perform:\n",
        "- deduplicate: remove those identical data records\n",
        "- impute: fill the missing values\n",
        "- gen_dt_feature: generate feature from datetime (e.g. month, day...)\n",
        "- scale: scale each feature to standard distribution.\n",
        "- roll: sample the data with sliding window.\n",
        "\n",
        "For forecasting task, we will look back 3 hours' historical data (6 records) and predict the value of next 30 miniutes (1 records).\n",
        "\n",
        "We perform the same transformation processes on train, valid and test set."
      ]
    },
    {
      "cell_type": "code",
      "execution_count": null,
      "metadata": {
        "id": "8NrgAZjSlz4w"
      },
      "outputs": [],
      "source": [
        "from sklearn.preprocessing import StandardScaler\n",
        "\n",
        "past_seq_len, future_seq_len = 48, 6\n",
        "\n",
        "scaler = StandardScaler()\n",
        "for tsdata in [tsdata_train, tsdata_valid, tsdata_test]:\n",
        "    tsdata.impute()\\\n",
        "          .scale(scaler, fit=(tsdata is tsdata_train))\\\n",
        "          .roll(lookback=past_seq_len, horizon=future_seq_len)"
      ]
    },
    {
      "cell_type": "markdown",
      "metadata": {
        "id": "bjrR9oyYlz4x"
      },
      "source": [
        "### Forecaster Step 2: Time series forecasting using Chronos Forecaster\n",
        "After preprocessing the datasets. We can use [Chronos Forecaster](https://bigdl.readthedocs.io/en/latest/doc/PythonAPI/Chronos/forecasters.html) to handle the forecasting tasks.\n",
        "\n",
        "Many (9+) forecasting algorithm is provided by Chronos, TCNForecaster is our first recommendation to users since it works well on nearly all datasets."
      ]
    },
    {
      "cell_type": "code",
      "execution_count": null,
      "metadata": {
        "id": "UGdpAWE5lz4x"
      },
      "outputs": [],
      "source": [
        "from bigdl.chronos.forecaster import TCNForecaster\n",
        "\n",
        "forecaster = TCNForecaster.from_tsdataset(tsdata_train)\n",
        "forecaster.fit(tsdata_train, epochs=3)"
      ]
    },
    {
      "cell_type": "markdown",
      "metadata": {
        "id": "K3ElmKbslz4y"
      },
      "source": [
        "### Forecaster Step 3: Evaluate your fitted forecaster\n",
        "Use fitted forecaster to predict test data and plot the result"
      ]
    },
    {
      "cell_type": "code",
      "execution_count": null,
      "metadata": {
        "id": "jwu-jnxSlz4y"
      },
      "outputs": [],
      "source": [
        "x_test, y_test = tsdata_test.to_numpy()\n",
        "pred = forecaster.predict(x_test)\n",
        "pred_unscale, groundtruth_unscale, x_test_unscale = tsdata_test.unscale_numpy(pred), tsdata_test.unscale_numpy(y_test), tsdata_test.unscale_numpy(x_test)"
      ]
    },
    {
      "cell_type": "code",
      "execution_count": null,
      "metadata": {
        "id": "mO32fNITlz4y"
      },
      "outputs": [],
      "source": [
        "from bigdl.chronos.metric import Evaluator\n",
        "\n",
        "Evaluator.plot(pred_unscale, ground_truth=groundtruth_unscale, x=x_test_unscale, layout=(2,4), figsize=(16,8))"
      ]
    },
    {
      "cell_type": "markdown",
      "metadata": {
        "id": "6p1440m_lz4y"
      },
      "source": [
        "### Forecaster Step 4: Further Optimize my forecaster"
      ]
    },
    {
      "cell_type": "markdown",
      "metadata": {
        "id": "JmOJtzVXlz4z"
      },
      "source": [
        "#### Use some accelerators for inferencing\n",
        "\n",
        "Accelerate my forecaster! That's a normal request from many of our customers. One way to do this is to adopt some accelerator such as:\n",
        "\n",
        "- onnxruntime: an accelerator provided by Microsoft on onnx structure.\n",
        "- openvino: an inference engine provided by Intel\n",
        "\n",
        "Adopting them in Chronos is super easy, just call `predict_with_onnx` and `predict_with_openvino`, the forecaster abstraction will hide all the complex calling for our users."
      ]
    },
    {
      "cell_type": "code",
      "execution_count": null,
      "metadata": {
        "id": "xAa0TS2Xlz4z"
      },
      "outputs": [],
      "source": [
        "pred_onnxruntime = forecaster.predict_with_onnx(x_test)\n",
        "pred_openvino = forecaster.predict_with_openvino(x_test)\n",
        "pred_jit = forecaster.predict_with_jit(x_test)"
      ]
    },
    {
      "cell_type": "code",
      "execution_count": null,
      "metadata": {
        "id": "Tv0ZTqxtlz4z"
      },
      "outputs": [],
      "source": [
        "from bigdl.chronos.metric.forecast_metrics import Evaluator\n",
        "\n",
        "def func_original():\n",
        "    forecaster.predict(x_test[0:1, :, :], acceleration=False)\n",
        "def func_onnxruntime():\n",
        "    forecaster.predict_with_onnx(x_test[0:1, :, :])\n",
        "def func_openvino():\n",
        "    forecaster.predict_with_openvino(x_test[0:1, :, :])\n",
        "def func_jit():\n",
        "    forecaster.predict_with_jit(x_test[0:1, :, :])\n",
        "\n",
        "print(\"original pytorch runtime (ms):\", Evaluator.get_latency(func_original))\n",
        "print(\"use accelerator (onnxruntime) (ms):\", Evaluator.get_latency(func_onnxruntime))\n",
        "print(\"use accelerator (openvino) (ms):\", Evaluator.get_latency(func_openvino))\n",
        "print(\"use accelerator (jit) (ms):\", Evaluator.get_latency(func_jit))"
      ]
    },
    {
      "cell_type": "markdown",
      "metadata": {
        "id": "quABTgwvlz4z"
      },
      "source": [
        "#### Quantize my forecaster\n",
        "\n",
        "Quantization has become more and more important in model serving and edge environment, since it can help you\n",
        "\n",
        "- improve inference throughput and latency\n",
        "- shrink the forecaster's size\n",
        "\n",
        "In Chronos forecaster, `forecaster.quantize` will call Intel Neural Compressor and hide the complex setting to our users."
      ]
    },
    {
      "cell_type": "code",
      "execution_count": null,
      "metadata": {
        "id": "tTKI6pGMlz4z"
      },
      "outputs": [],
      "source": [
        "forecaster.quantize(tsdata_train.to_numpy())"
      ]
    },
    {
      "cell_type": "code",
      "execution_count": null,
      "metadata": {
        "id": "iLG8_dpIzZxZ"
      },
      "outputs": [],
      "source": [
        "from bigdl.chronos.metric.forecast_metrics import Evaluator\n",
        "\n",
        "def func_quantize():\n",
        "    forecaster.predict(x_test[0:1, :, :], quantize=True)\n",
        "\n",
        "print(\"use accelerator (quantize) (ms):\", Evaluator.get_latency(func_quantize))"
      ]
    },
    {
      "cell_type": "markdown",
      "metadata": {
        "id": "NaFBr7QIlz4z"
      },
      "source": [
        "### Forecaster Step 5: Save my forecaster\n",
        "\n",
        "You may save & restore the (non-quantized & quantized) forecaster."
      ]
    },
    {
      "cell_type": "code",
      "execution_count": null,
      "metadata": {
        "id": "2I5vO-E0lz40"
      },
      "outputs": [],
      "source": [
        "forecaster.save(\"nyc_taxi.fxt\", \"nyc_taxi_q.fxt\")\n",
        "forecaster.load(\"nyc_taxi.fxt\", \"nyc_taxi_q.fxt\")"
      ]
    },
    {
      "cell_type": "code",
      "execution_count": null,
      "metadata": {
        "id": "q4sOiJjyxT4C"
      },
      "outputs": [],
      "source": [
        "forecaster.export_onnx_file(dirname='fp32_onnx')\n",
        "forecaster.export_openvino_file(dirname='fp32_openvino')\n",
        "forecaster.export_torchscript_file(dirname='fp32_torchscript')"
      ]
    }
  ],
  "metadata": {
    "colab": {
      "name": "chronos_forecasting.ipynb",
      "provenance": []
    },
    "kernelspec": {
      "display_name": "Python 3.7.13 ('chronos')",
      "language": "python",
      "name": "python3"
    },
    "language_info": {
      "codemirror_mode": {
        "name": "ipython",
        "version": 3
      },
      "file_extension": ".py",
      "mimetype": "text/x-python",
      "name": "python",
      "nbconvert_exporter": "python",
      "pygments_lexer": "ipython3",
      "version": "3.7.11"
    },
    "vscode": {
      "interpreter": {
        "hash": "f7cbcfcf124497a723b2fc91b0dad8cd6ed41af955928289a9d3478af9690021"
      }
    }
  },
  "nbformat": 4,
  "nbformat_minor": 0
}
